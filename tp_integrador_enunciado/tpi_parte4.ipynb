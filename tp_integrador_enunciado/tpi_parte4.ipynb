{
 "cells": [
  {
   "attachments": {},
   "cell_type": "markdown",
   "id": "27719223",
   "metadata": {},
   "source": [
    "# Trabajo Integrador Parte 4\n",
    "\n",
    "Nombre: Luis Pablo Segovia"
   ]
  },
  {
   "attachments": {},
   "cell_type": "markdown",
   "id": "461d011d",
   "metadata": {},
   "source": [
    "Dentro de la carpeta de `data/` vamos a poder encontrar 3 datasets:\n",
    "\n",
    "- Pokemon (Problema de clasificacion Binaria): La intención es tratar de predecir si basada en la información que tenemos podemos estimar si la carta que estamos viendo es Legendaria o no (Booleano).\n",
    "- Heart Disease (Problema de clasificacion Binaria): A partir de este dataset vamos a tratar de determinar si una persona basado en ciertos datos tiene asociado una enfermedad cardiaca.\n",
    "- Challenger USA Space Shuttle O-Ring Data Set (Regresion multivariada): En este dataset encontramos información sobre varios despegues del space shuttle, la intención de este problema es tratar de predecir cuanto será la cantidad de O-Rings que fallan dadas las condiciones de despegue.\n",
    "\n",
    "> Para la presentación de sus trabajos prácticos **Elijan 1 de los 3 datasets**"
   ]
  },
  {
   "attachments": {},
   "cell_type": "markdown",
   "id": "5a976dd3",
   "metadata": {},
   "source": [
    "# Importar librerías\n",
    "\n",
    "Importar aquellas librerías que serán utilizadas en el trabajo."
   ]
  },
  {
   "cell_type": "code",
   "execution_count": 1,
   "id": "845b6c50",
   "metadata": {},
   "outputs": [],
   "source": [
    "import numpy as np\n",
    "import pandas as pd\n",
    "import matplotlib.pyplot as plt\n",
    "import seaborn as sns\n",
    "\n",
    "from sklearn.preprocessing import StandardScaler\n",
    "from sklearn.decomposition import PCA\n",
    "\n",
    "from sklearn.linear_model import LogisticRegression, LogisticRegressionCV"
   ]
  },
  {
   "attachments": {},
   "cell_type": "markdown",
   "id": "954111ce",
   "metadata": {},
   "source": [
    "# Cargar datos\n",
    "\n",
    "Cargar los datos de entrenamiento.\n",
    "\n",
    "Recordemos que para todos los datasets tenemos el archivo `columns.csv` que contiene el nombre y descripción de cada columna en el mismo orden que van a encontrar los datos.\n",
    "\n",
    "En los casos de datos con extensión  `*.data` vamos a tener que leerlo utilizando `pd.read_data('myfile.data', sep = ',', header = 0, names = my_cols)`\n",
    "\n",
    "De esta manera si quisieramos cargar datos por ejemplo de Nasa deberiamos poner algo asi\n",
    "\n",
    "\n",
    "```python\n",
    "## Importing python earlier\n",
    "\n",
    "my_cols = pd.read_csv('./data/nasa_orings/columns.csv').column.values.tolist()\n",
    "\n",
    "my_data = pd.read_csv('./data/nasa_orings/o-ring-erosion-or-blowby.data',\n",
    "                       delimiter=',',\n",
    "                       header=0,\n",
    "                       names = my_cols\n",
    "                    )\n",
    "```"
   ]
  },
  {
   "cell_type": "code",
   "execution_count": 2,
   "id": "26f41c45",
   "metadata": {},
   "outputs": [],
   "source": [
    "DATASET_PATH = \"./data/heart_disease/\""
   ]
  },
  {
   "cell_type": "code",
   "execution_count": 3,
   "id": "2757cd5f",
   "metadata": {},
   "outputs": [],
   "source": [
    "my_cols = pd.read_csv(DATASET_PATH + 'columns.csv').column.values.tolist()\n",
    "\n",
    "my_data = pd.read_csv(DATASET_PATH + 'processed.cleveland.data',\n",
    "                       delimiter=',',\n",
    "                       header=0,\n",
    "                       names = my_cols\n",
    "                    )"
   ]
  },
  {
   "attachments": {},
   "cell_type": "markdown",
   "id": "c93000bd",
   "metadata": {},
   "source": [
    "# Análisis exploratorio básico y preprocesamiento de los datos\n",
    "\n",
    "Análisis de los datos para conocer los mismos, ver datos faltantes, decidir cómo tratarlos, ver distribuciones, relaciones, etc. Procesar los datos centrándolos, reescalando, codificando, reduciendo dimensiones, etc. según considere necesario.\n",
    "\n",
    "Vamos a considerar:\n",
    "\n",
    "- Para escalar datos: `sklearn.preprocessing.StandardScaler()`\n",
    "- Para completar valores nulos: `sklearn.impute.SimpleImputer()` [Quickguide](https://scikit-learn.org/stable/modules/impute.html)\n",
    "- Para reduccion de dimensiones (sobre todo para visualizar los datos): PCA o [T-SNE](https://builtin.com/data-science/tsne-python) (Solo para visualización)\n",
    "- Para codificar variables categóricas: `sklearn.preprocessing.OneHotEncoder()`"
   ]
  },
  {
   "cell_type": "code",
   "execution_count": 4,
   "id": "5a97d401",
   "metadata": {},
   "outputs": [
    {
     "data": {
      "text/html": [
       "<div>\n",
       "<style scoped>\n",
       "    .dataframe tbody tr th:only-of-type {\n",
       "        vertical-align: middle;\n",
       "    }\n",
       "\n",
       "    .dataframe tbody tr th {\n",
       "        vertical-align: top;\n",
       "    }\n",
       "\n",
       "    .dataframe thead th {\n",
       "        text-align: right;\n",
       "    }\n",
       "</style>\n",
       "<table border=\"1\" class=\"dataframe\">\n",
       "  <thead>\n",
       "    <tr style=\"text-align: right;\">\n",
       "      <th></th>\n",
       "      <th>age</th>\n",
       "      <th>sex</th>\n",
       "      <th>cp</th>\n",
       "      <th>trestbps</th>\n",
       "      <th>chol</th>\n",
       "      <th>fbs</th>\n",
       "      <th>restecg</th>\n",
       "      <th>thalach</th>\n",
       "      <th>exang</th>\n",
       "      <th>oldpeak</th>\n",
       "      <th>slope</th>\n",
       "      <th>num</th>\n",
       "    </tr>\n",
       "  </thead>\n",
       "  <tbody>\n",
       "    <tr>\n",
       "      <th>count</th>\n",
       "      <td>302.000000</td>\n",
       "      <td>302.000000</td>\n",
       "      <td>302.000000</td>\n",
       "      <td>302.000000</td>\n",
       "      <td>302.000000</td>\n",
       "      <td>302.000000</td>\n",
       "      <td>302.000000</td>\n",
       "      <td>302.000000</td>\n",
       "      <td>302.000000</td>\n",
       "      <td>302.000000</td>\n",
       "      <td>302.000000</td>\n",
       "      <td>302.000000</td>\n",
       "    </tr>\n",
       "    <tr>\n",
       "      <th>mean</th>\n",
       "      <td>54.410596</td>\n",
       "      <td>0.678808</td>\n",
       "      <td>3.165563</td>\n",
       "      <td>131.645695</td>\n",
       "      <td>246.738411</td>\n",
       "      <td>0.145695</td>\n",
       "      <td>0.986755</td>\n",
       "      <td>149.605960</td>\n",
       "      <td>0.327815</td>\n",
       "      <td>1.035430</td>\n",
       "      <td>1.596026</td>\n",
       "      <td>0.940397</td>\n",
       "    </tr>\n",
       "    <tr>\n",
       "      <th>std</th>\n",
       "      <td>9.040163</td>\n",
       "      <td>0.467709</td>\n",
       "      <td>0.953612</td>\n",
       "      <td>17.612202</td>\n",
       "      <td>51.856829</td>\n",
       "      <td>0.353386</td>\n",
       "      <td>0.994916</td>\n",
       "      <td>22.912959</td>\n",
       "      <td>0.470196</td>\n",
       "      <td>1.160723</td>\n",
       "      <td>0.611939</td>\n",
       "      <td>1.229384</td>\n",
       "    </tr>\n",
       "    <tr>\n",
       "      <th>min</th>\n",
       "      <td>29.000000</td>\n",
       "      <td>0.000000</td>\n",
       "      <td>1.000000</td>\n",
       "      <td>94.000000</td>\n",
       "      <td>126.000000</td>\n",
       "      <td>0.000000</td>\n",
       "      <td>0.000000</td>\n",
       "      <td>71.000000</td>\n",
       "      <td>0.000000</td>\n",
       "      <td>0.000000</td>\n",
       "      <td>1.000000</td>\n",
       "      <td>0.000000</td>\n",
       "    </tr>\n",
       "    <tr>\n",
       "      <th>25%</th>\n",
       "      <td>48.000000</td>\n",
       "      <td>0.000000</td>\n",
       "      <td>3.000000</td>\n",
       "      <td>120.000000</td>\n",
       "      <td>211.000000</td>\n",
       "      <td>0.000000</td>\n",
       "      <td>0.000000</td>\n",
       "      <td>133.250000</td>\n",
       "      <td>0.000000</td>\n",
       "      <td>0.000000</td>\n",
       "      <td>1.000000</td>\n",
       "      <td>0.000000</td>\n",
       "    </tr>\n",
       "    <tr>\n",
       "      <th>50%</th>\n",
       "      <td>55.500000</td>\n",
       "      <td>1.000000</td>\n",
       "      <td>3.000000</td>\n",
       "      <td>130.000000</td>\n",
       "      <td>241.500000</td>\n",
       "      <td>0.000000</td>\n",
       "      <td>0.500000</td>\n",
       "      <td>153.000000</td>\n",
       "      <td>0.000000</td>\n",
       "      <td>0.800000</td>\n",
       "      <td>2.000000</td>\n",
       "      <td>0.000000</td>\n",
       "    </tr>\n",
       "    <tr>\n",
       "      <th>75%</th>\n",
       "      <td>61.000000</td>\n",
       "      <td>1.000000</td>\n",
       "      <td>4.000000</td>\n",
       "      <td>140.000000</td>\n",
       "      <td>275.000000</td>\n",
       "      <td>0.000000</td>\n",
       "      <td>2.000000</td>\n",
       "      <td>166.000000</td>\n",
       "      <td>1.000000</td>\n",
       "      <td>1.600000</td>\n",
       "      <td>2.000000</td>\n",
       "      <td>2.000000</td>\n",
       "    </tr>\n",
       "    <tr>\n",
       "      <th>max</th>\n",
       "      <td>77.000000</td>\n",
       "      <td>1.000000</td>\n",
       "      <td>4.000000</td>\n",
       "      <td>200.000000</td>\n",
       "      <td>564.000000</td>\n",
       "      <td>1.000000</td>\n",
       "      <td>2.000000</td>\n",
       "      <td>202.000000</td>\n",
       "      <td>1.000000</td>\n",
       "      <td>6.200000</td>\n",
       "      <td>3.000000</td>\n",
       "      <td>4.000000</td>\n",
       "    </tr>\n",
       "  </tbody>\n",
       "</table>\n",
       "</div>"
      ],
      "text/plain": [
       "              age         sex          cp    trestbps        chol         fbs  \\\n",
       "count  302.000000  302.000000  302.000000  302.000000  302.000000  302.000000   \n",
       "mean    54.410596    0.678808    3.165563  131.645695  246.738411    0.145695   \n",
       "std      9.040163    0.467709    0.953612   17.612202   51.856829    0.353386   \n",
       "min     29.000000    0.000000    1.000000   94.000000  126.000000    0.000000   \n",
       "25%     48.000000    0.000000    3.000000  120.000000  211.000000    0.000000   \n",
       "50%     55.500000    1.000000    3.000000  130.000000  241.500000    0.000000   \n",
       "75%     61.000000    1.000000    4.000000  140.000000  275.000000    0.000000   \n",
       "max     77.000000    1.000000    4.000000  200.000000  564.000000    1.000000   \n",
       "\n",
       "          restecg     thalach       exang     oldpeak       slope         num  \n",
       "count  302.000000  302.000000  302.000000  302.000000  302.000000  302.000000  \n",
       "mean     0.986755  149.605960    0.327815    1.035430    1.596026    0.940397  \n",
       "std      0.994916   22.912959    0.470196    1.160723    0.611939    1.229384  \n",
       "min      0.000000   71.000000    0.000000    0.000000    1.000000    0.000000  \n",
       "25%      0.000000  133.250000    0.000000    0.000000    1.000000    0.000000  \n",
       "50%      0.500000  153.000000    0.000000    0.800000    2.000000    0.000000  \n",
       "75%      2.000000  166.000000    1.000000    1.600000    2.000000    2.000000  \n",
       "max      2.000000  202.000000    1.000000    6.200000    3.000000    4.000000  "
      ]
     },
     "execution_count": 4,
     "metadata": {},
     "output_type": "execute_result"
    }
   ],
   "source": [
    "# Realizamos un primer approach a la descripción del dataset\n",
    "my_data.describe()"
   ]
  },
  {
   "cell_type": "markdown",
   "id": "594508ed-d361-4469-961b-28a25cbcab34",
   "metadata": {},
   "source": [
    "- Vemos que tienen diferente escala, lo cual puede ser no bueno para el aprendizaje"
   ]
  },
  {
   "cell_type": "code",
   "execution_count": 5,
   "id": "61a11de1-15a8-45bd-87af-8f7eedef0201",
   "metadata": {},
   "outputs": [
    {
     "name": "stdout",
     "output_type": "stream",
     "text": [
      "<class 'pandas.core.frame.DataFrame'>\n",
      "RangeIndex: 302 entries, 0 to 301\n",
      "Data columns (total 14 columns):\n",
      " #   Column    Non-Null Count  Dtype  \n",
      "---  ------    --------------  -----  \n",
      " 0   age       302 non-null    float64\n",
      " 1   sex       302 non-null    float64\n",
      " 2   cp        302 non-null    float64\n",
      " 3   trestbps  302 non-null    float64\n",
      " 4   chol      302 non-null    float64\n",
      " 5   fbs       302 non-null    float64\n",
      " 6   restecg   302 non-null    float64\n",
      " 7   thalach   302 non-null    float64\n",
      " 8   exang     302 non-null    float64\n",
      " 9   oldpeak   302 non-null    float64\n",
      " 10  slope     302 non-null    float64\n",
      " 11  ca        302 non-null    object \n",
      " 12  thal      302 non-null    object \n",
      " 13  num       302 non-null    int64  \n",
      "dtypes: float64(11), int64(1), object(2)\n",
      "memory usage: 33.2+ KB\n"
     ]
    }
   ],
   "source": [
    "# Vemos la información de cada columna del dataset\n",
    "my_data.info()"
   ]
  },
  {
   "cell_type": "markdown",
   "id": "96352577-dede-42e1-a684-58d5356e467d",
   "metadata": {},
   "source": [
    "- Lo bueno es que no tenemos valores no nulos. Por lo tanto, no será necesario utilizar el imputer."
   ]
  },
  {
   "cell_type": "code",
   "execution_count": 6,
   "id": "9ca06250",
   "metadata": {},
   "outputs": [],
   "source": [
    "# Identificamos las columnas en referencia al tipo de dato\n",
    "numerical_features = [\"age\", \"trestbps\", \"chol\", \"thalach\", \"oldpeak\", \"thalach\"]\n",
    "categorical_features = [\"sex\", \"cp\", \"fbs\", \"restecg\", \"exang\", \"slope\", \"ca\", \"thal\"]\n",
    "target = \"num\""
   ]
  },
  {
   "cell_type": "markdown",
   "id": "f8fa4be1",
   "metadata": {},
   "source": [
    "Una vez separadas las variables por tipo, podemos empezar el analisis. Lo primero es binarizar a la variable target"
   ]
  },
  {
   "cell_type": "code",
   "execution_count": 7,
   "id": "b66211cd",
   "metadata": {},
   "outputs": [
    {
     "data": {
      "text/plain": [
       "0    163\n",
       "1     55\n",
       "2     36\n",
       "3     35\n",
       "4     13\n",
       "Name: num, dtype: int64"
      ]
     },
     "execution_count": 7,
     "metadata": {},
     "output_type": "execute_result"
    }
   ],
   "source": [
    "my_data[target].value_counts()"
   ]
  },
  {
   "cell_type": "code",
   "execution_count": 8,
   "id": "d672d143",
   "metadata": {},
   "outputs": [
    {
     "data": {
      "text/plain": [
       "array([1, 1, 0, 0, 0, 1, 0, 1, 1, 0, 0, 1, 0, 0, 0, 1, 0, 0, 0, 0, 0, 1,\n",
       "       1, 1, 0, 0, 0, 0, 1, 0, 1, 1, 0, 0, 0, 1, 1, 1, 0, 1, 0, 0, 0, 1,\n",
       "       1, 0, 1, 0, 0, 0, 0, 1, 0, 1, 1, 1, 1, 0, 0, 1, 0, 1, 0, 1, 1, 1,\n",
       "       0, 1, 1, 0, 1, 1, 1, 1, 0, 1, 0, 0, 1, 0, 0, 0, 1, 0, 0, 0, 0, 0,\n",
       "       0, 0, 1, 0, 0, 0, 1, 1, 1, 0, 0, 0, 0, 0, 0, 1, 0, 1, 1, 1, 1, 1,\n",
       "       1, 0, 1, 1, 0, 0, 0, 1, 1, 1, 1, 0, 1, 1, 0, 1, 1, 0, 0, 0, 0, 0,\n",
       "       0, 0, 0, 1, 1, 1, 0, 0, 1, 0, 1, 0, 1, 1, 0, 0, 0, 0, 0, 0, 1, 1,\n",
       "       1, 1, 1, 1, 0, 0, 1, 0, 0, 0, 0, 0, 0, 1, 0, 1, 0, 1, 0, 1, 1, 0,\n",
       "       1, 0, 0, 1, 1, 0, 0, 1, 0, 0, 1, 1, 1, 0, 1, 1, 1, 0, 1, 0, 0, 0,\n",
       "       1, 0, 0, 0, 0, 0, 1, 1, 1, 0, 1, 0, 1, 0, 1, 1, 0, 0, 0, 0, 0, 0,\n",
       "       0, 0, 1, 1, 0, 0, 0, 1, 1, 0, 1, 1, 0, 0, 1, 1, 1, 0, 0, 0, 0, 0,\n",
       "       1, 0, 1, 1, 1, 1, 0, 0, 1, 0, 0, 0, 0, 0, 0, 0, 1, 0, 1, 0, 0, 1,\n",
       "       1, 1, 1, 1, 0, 1, 0, 1, 0, 1, 0, 0, 0, 1, 0, 1, 0, 1, 0, 1, 1, 1,\n",
       "       0, 0, 0, 1, 0, 1, 1, 1, 0, 1, 1, 1, 1, 1, 1, 0], dtype=int64)"
      ]
     },
     "execution_count": 8,
     "metadata": {},
     "output_type": "execute_result"
    }
   ],
   "source": [
    "# Enmascaramos los valores: sano=0 y enfermo el resto\n",
    "y = my_data[target].values\n",
    "sano_mask = y == 0\n",
    "enfermo_mask = y > 0\n",
    "y_class = y.copy()\n",
    "\n",
    "y_class[sano_mask] = 0\n",
    "y_class[enfermo_mask] = 1\n",
    "y_class"
   ]
  },
  {
   "cell_type": "code",
   "execution_count": 9,
   "id": "23502718",
   "metadata": {},
   "outputs": [
    {
     "data": {
      "text/html": [
       "<div>\n",
       "<style scoped>\n",
       "    .dataframe tbody tr th:only-of-type {\n",
       "        vertical-align: middle;\n",
       "    }\n",
       "\n",
       "    .dataframe tbody tr th {\n",
       "        vertical-align: top;\n",
       "    }\n",
       "\n",
       "    .dataframe thead th {\n",
       "        text-align: right;\n",
       "    }\n",
       "</style>\n",
       "<table border=\"1\" class=\"dataframe\">\n",
       "  <thead>\n",
       "    <tr style=\"text-align: right;\">\n",
       "      <th></th>\n",
       "      <th>sex</th>\n",
       "      <th>cp</th>\n",
       "      <th>fbs</th>\n",
       "      <th>restecg</th>\n",
       "      <th>exang</th>\n",
       "      <th>slope</th>\n",
       "      <th>ca_0.0</th>\n",
       "      <th>ca_1.0</th>\n",
       "      <th>ca_2.0</th>\n",
       "      <th>ca_3.0</th>\n",
       "      <th>ca_?</th>\n",
       "      <th>thal_3.0</th>\n",
       "      <th>thal_6.0</th>\n",
       "      <th>thal_7.0</th>\n",
       "      <th>thal_?</th>\n",
       "    </tr>\n",
       "  </thead>\n",
       "  <tbody>\n",
       "    <tr>\n",
       "      <th>0</th>\n",
       "      <td>1.0</td>\n",
       "      <td>4.0</td>\n",
       "      <td>0.0</td>\n",
       "      <td>2.0</td>\n",
       "      <td>1.0</td>\n",
       "      <td>2.0</td>\n",
       "      <td>0</td>\n",
       "      <td>0</td>\n",
       "      <td>0</td>\n",
       "      <td>1</td>\n",
       "      <td>0</td>\n",
       "      <td>1</td>\n",
       "      <td>0</td>\n",
       "      <td>0</td>\n",
       "      <td>0</td>\n",
       "    </tr>\n",
       "    <tr>\n",
       "      <th>1</th>\n",
       "      <td>1.0</td>\n",
       "      <td>4.0</td>\n",
       "      <td>0.0</td>\n",
       "      <td>2.0</td>\n",
       "      <td>1.0</td>\n",
       "      <td>2.0</td>\n",
       "      <td>0</td>\n",
       "      <td>0</td>\n",
       "      <td>1</td>\n",
       "      <td>0</td>\n",
       "      <td>0</td>\n",
       "      <td>0</td>\n",
       "      <td>0</td>\n",
       "      <td>1</td>\n",
       "      <td>0</td>\n",
       "    </tr>\n",
       "    <tr>\n",
       "      <th>2</th>\n",
       "      <td>1.0</td>\n",
       "      <td>3.0</td>\n",
       "      <td>0.0</td>\n",
       "      <td>0.0</td>\n",
       "      <td>0.0</td>\n",
       "      <td>3.0</td>\n",
       "      <td>1</td>\n",
       "      <td>0</td>\n",
       "      <td>0</td>\n",
       "      <td>0</td>\n",
       "      <td>0</td>\n",
       "      <td>1</td>\n",
       "      <td>0</td>\n",
       "      <td>0</td>\n",
       "      <td>0</td>\n",
       "    </tr>\n",
       "    <tr>\n",
       "      <th>3</th>\n",
       "      <td>0.0</td>\n",
       "      <td>2.0</td>\n",
       "      <td>0.0</td>\n",
       "      <td>2.0</td>\n",
       "      <td>0.0</td>\n",
       "      <td>1.0</td>\n",
       "      <td>1</td>\n",
       "      <td>0</td>\n",
       "      <td>0</td>\n",
       "      <td>0</td>\n",
       "      <td>0</td>\n",
       "      <td>1</td>\n",
       "      <td>0</td>\n",
       "      <td>0</td>\n",
       "      <td>0</td>\n",
       "    </tr>\n",
       "    <tr>\n",
       "      <th>4</th>\n",
       "      <td>1.0</td>\n",
       "      <td>2.0</td>\n",
       "      <td>0.0</td>\n",
       "      <td>0.0</td>\n",
       "      <td>0.0</td>\n",
       "      <td>1.0</td>\n",
       "      <td>1</td>\n",
       "      <td>0</td>\n",
       "      <td>0</td>\n",
       "      <td>0</td>\n",
       "      <td>0</td>\n",
       "      <td>1</td>\n",
       "      <td>0</td>\n",
       "      <td>0</td>\n",
       "      <td>0</td>\n",
       "    </tr>\n",
       "    <tr>\n",
       "      <th>...</th>\n",
       "      <td>...</td>\n",
       "      <td>...</td>\n",
       "      <td>...</td>\n",
       "      <td>...</td>\n",
       "      <td>...</td>\n",
       "      <td>...</td>\n",
       "      <td>...</td>\n",
       "      <td>...</td>\n",
       "      <td>...</td>\n",
       "      <td>...</td>\n",
       "      <td>...</td>\n",
       "      <td>...</td>\n",
       "      <td>...</td>\n",
       "      <td>...</td>\n",
       "      <td>...</td>\n",
       "    </tr>\n",
       "    <tr>\n",
       "      <th>297</th>\n",
       "      <td>1.0</td>\n",
       "      <td>1.0</td>\n",
       "      <td>0.0</td>\n",
       "      <td>0.0</td>\n",
       "      <td>0.0</td>\n",
       "      <td>2.0</td>\n",
       "      <td>1</td>\n",
       "      <td>0</td>\n",
       "      <td>0</td>\n",
       "      <td>0</td>\n",
       "      <td>0</td>\n",
       "      <td>0</td>\n",
       "      <td>0</td>\n",
       "      <td>1</td>\n",
       "      <td>0</td>\n",
       "    </tr>\n",
       "    <tr>\n",
       "      <th>298</th>\n",
       "      <td>1.0</td>\n",
       "      <td>4.0</td>\n",
       "      <td>1.0</td>\n",
       "      <td>0.0</td>\n",
       "      <td>0.0</td>\n",
       "      <td>2.0</td>\n",
       "      <td>0</td>\n",
       "      <td>0</td>\n",
       "      <td>1</td>\n",
       "      <td>0</td>\n",
       "      <td>0</td>\n",
       "      <td>0</td>\n",
       "      <td>0</td>\n",
       "      <td>1</td>\n",
       "      <td>0</td>\n",
       "    </tr>\n",
       "    <tr>\n",
       "      <th>299</th>\n",
       "      <td>1.0</td>\n",
       "      <td>4.0</td>\n",
       "      <td>0.0</td>\n",
       "      <td>0.0</td>\n",
       "      <td>1.0</td>\n",
       "      <td>2.0</td>\n",
       "      <td>0</td>\n",
       "      <td>1</td>\n",
       "      <td>0</td>\n",
       "      <td>0</td>\n",
       "      <td>0</td>\n",
       "      <td>0</td>\n",
       "      <td>0</td>\n",
       "      <td>1</td>\n",
       "      <td>0</td>\n",
       "    </tr>\n",
       "    <tr>\n",
       "      <th>300</th>\n",
       "      <td>0.0</td>\n",
       "      <td>2.0</td>\n",
       "      <td>0.0</td>\n",
       "      <td>2.0</td>\n",
       "      <td>0.0</td>\n",
       "      <td>2.0</td>\n",
       "      <td>0</td>\n",
       "      <td>1</td>\n",
       "      <td>0</td>\n",
       "      <td>0</td>\n",
       "      <td>0</td>\n",
       "      <td>1</td>\n",
       "      <td>0</td>\n",
       "      <td>0</td>\n",
       "      <td>0</td>\n",
       "    </tr>\n",
       "    <tr>\n",
       "      <th>301</th>\n",
       "      <td>1.0</td>\n",
       "      <td>3.0</td>\n",
       "      <td>0.0</td>\n",
       "      <td>0.0</td>\n",
       "      <td>0.0</td>\n",
       "      <td>1.0</td>\n",
       "      <td>0</td>\n",
       "      <td>0</td>\n",
       "      <td>0</td>\n",
       "      <td>0</td>\n",
       "      <td>1</td>\n",
       "      <td>1</td>\n",
       "      <td>0</td>\n",
       "      <td>0</td>\n",
       "      <td>0</td>\n",
       "    </tr>\n",
       "  </tbody>\n",
       "</table>\n",
       "<p>302 rows × 15 columns</p>\n",
       "</div>"
      ],
      "text/plain": [
       "     sex   cp  fbs  restecg  exang  slope  ca_0.0  ca_1.0  ca_2.0  ca_3.0  \\\n",
       "0    1.0  4.0  0.0      2.0    1.0    2.0       0       0       0       1   \n",
       "1    1.0  4.0  0.0      2.0    1.0    2.0       0       0       1       0   \n",
       "2    1.0  3.0  0.0      0.0    0.0    3.0       1       0       0       0   \n",
       "3    0.0  2.0  0.0      2.0    0.0    1.0       1       0       0       0   \n",
       "4    1.0  2.0  0.0      0.0    0.0    1.0       1       0       0       0   \n",
       "..   ...  ...  ...      ...    ...    ...     ...     ...     ...     ...   \n",
       "297  1.0  1.0  0.0      0.0    0.0    2.0       1       0       0       0   \n",
       "298  1.0  4.0  1.0      0.0    0.0    2.0       0       0       1       0   \n",
       "299  1.0  4.0  0.0      0.0    1.0    2.0       0       1       0       0   \n",
       "300  0.0  2.0  0.0      2.0    0.0    2.0       0       1       0       0   \n",
       "301  1.0  3.0  0.0      0.0    0.0    1.0       0       0       0       0   \n",
       "\n",
       "     ca_?  thal_3.0  thal_6.0  thal_7.0  thal_?  \n",
       "0       0         1         0         0       0  \n",
       "1       0         0         0         1       0  \n",
       "2       0         1         0         0       0  \n",
       "3       0         1         0         0       0  \n",
       "4       0         1         0         0       0  \n",
       "..    ...       ...       ...       ...     ...  \n",
       "297     0         0         0         1       0  \n",
       "298     0         0         0         1       0  \n",
       "299     0         0         0         1       0  \n",
       "300     0         1         0         0       0  \n",
       "301     1         1         0         0       0  \n",
       "\n",
       "[302 rows x 15 columns]"
      ]
     },
     "execution_count": 9,
     "metadata": {},
     "output_type": "execute_result"
    }
   ],
   "source": [
    "pd.get_dummies(my_data[categorical_features])"
   ]
  },
  {
   "cell_type": "code",
   "execution_count": 10,
   "id": "4bd8c98e",
   "metadata": {},
   "outputs": [
    {
     "data": {
      "text/plain": [
       "2"
      ]
     },
     "execution_count": 10,
     "metadata": {},
     "output_type": "execute_result"
    }
   ],
   "source": [
    "# Realizamos un análisis PCA que explique el 90% de la variabilidad\n",
    "pca = PCA(n_components=0.9).fit(my_data[numerical_features])\n",
    "\n",
    "pca.n_components_"
   ]
  },
  {
   "cell_type": "code",
   "execution_count": 11,
   "id": "d0dce162",
   "metadata": {},
   "outputs": [
    {
     "data": {
      "text/plain": [
       "array([[ 41.51972759,  60.43599513],\n",
       "       [-17.59940165,  30.19207636],\n",
       "       [  2.12973462, -54.58616297],\n",
       "       [-43.47434538, -32.47534333],\n",
       "       [-11.52703173, -39.96766826],\n",
       "       [ 21.83596944, -13.62517116],\n",
       "       [106.41609952, -20.39883771],\n",
       "       [  7.52203752,   4.50457172],\n",
       "       [-43.32952982,  -6.79174957],\n",
       "       [-54.08580105,   3.613773  ],\n",
       "       [ 47.61631832,  -4.88514137],\n",
       "       [  9.29523476,  10.66383366],\n",
       "       [ 15.00080685, -34.73139443],\n",
       "       [-45.80805076, -15.46060048],\n",
       "       [-77.78444909, -32.13932078]])"
      ]
     },
     "execution_count": 11,
     "metadata": {},
     "output_type": "execute_result"
    }
   ],
   "source": [
    "# Transformamos los datos a estos dos componentes\n",
    "X_transformed = pca.transform(my_data[numerical_features])\n",
    "X_transformed[:15]"
   ]
  },
  {
   "cell_type": "code",
   "execution_count": 12,
   "id": "75184170",
   "metadata": {},
   "outputs": [
    {
     "data": {
      "text/plain": [
       "<AxesSubplot: >"
      ]
     },
     "execution_count": 12,
     "metadata": {},
     "output_type": "execute_result"
    },
    {
     "data": {
      "image/png": "[encoded data removed]",
      "text/plain": [
       "<Figure size 640x480 with 1 Axes>"
      ]
     },
     "metadata": {},
     "output_type": "display_data"
    }
   ],
   "source": [
    "# Graficamos los datos respecto a cada PCi\n",
    "sns.scatterplot(x=X_transformed[:,0], y=X_transformed[:,1])"
   ]
  },
  {
   "attachments": {},
   "cell_type": "markdown",
   "id": "13e49832",
   "metadata": {},
   "source": [
    "# Modelos y evaluación\n",
    "Probar diferentes modelos para predecir la variable objetivo. Calcular las métricas que considere relevantes. Comentar los resultados. "
   ]
  },
  {
   "cell_type": "code",
   "execution_count": 13,
   "id": "529db73e",
   "metadata": {},
   "outputs": [],
   "source": [
    "from sklearn.linear_model import LogisticRegressionCV, LogisticRegression\n",
    "from sklearn.model_selection import train_test_split"
   ]
  },
  {
   "cell_type": "code",
   "execution_count": 14,
   "id": "4b2f6a92-2c1e-43fd-a05e-45012471a244",
   "metadata": {},
   "outputs": [
    {
     "data": {
      "text/plain": [
       "(302,)"
      ]
     },
     "execution_count": 14,
     "metadata": {},
     "output_type": "execute_result"
    }
   ],
   "source": [
    "# Revisamos las dimensiones de los datos actuales\n",
    "y_class.shape"
   ]
  },
  {
   "cell_type": "markdown",
   "id": "e2e41670-0ee4-4967-9a1d-932a9b7c5b45",
   "metadata": {},
   "source": [
    "### Con PCA"
   ]
  },
  {
   "cell_type": "code",
   "execution_count": 15,
   "id": "7d1f4433-8d25-4e2e-8c27-f25cf7743a65",
   "metadata": {},
   "outputs": [
    {
     "data": {
      "text/plain": [
       "(302, 2)"
      ]
     },
     "execution_count": 15,
     "metadata": {},
     "output_type": "execute_result"
    }
   ],
   "source": [
    "X_transformed.shape"
   ]
  },
  {
   "cell_type": "code",
   "execution_count": 16,
   "id": "bdbc1039-872c-437f-9671-b7b47227c05a",
   "metadata": {},
   "outputs": [
    {
     "data": {
      "text/plain": [
       "1.1726618705035972"
      ]
     },
     "execution_count": 16,
     "metadata": {},
     "output_type": "execute_result"
    }
   ],
   "source": [
    "# Nos fijamos la distribución de los datos de y_class, para saber si están balanceados\n",
    "sum(y_class == 0) / sum(y_class == 1)"
   ]
  },
  {
   "cell_type": "markdown",
   "id": "9d0cf701-05db-4eca-8453-e23b12c38e2e",
   "metadata": {},
   "source": [
    "- En el dataset hay un 17% más de datos sobre sanos que de enfermos --> ¿Se puede considerar que está balanceado?"
   ]
  },
  {
   "cell_type": "code",
   "execution_count": 17,
   "id": "855cd88d-6a18-4fcf-8011-4ab3e386338a",
   "metadata": {},
   "outputs": [],
   "source": [
    "# Definimos un set de train y otro de test\n",
    "X_train, X_test, y_train, y_test = train_test_split(X_transformed, y_class, test_size=0.15, random_state=17)"
   ]
  },
  {
   "cell_type": "code",
   "execution_count": 18,
   "id": "11b37e05-a9f3-46ce-b647-2ee95ba8450a",
   "metadata": {},
   "outputs": [
    {
     "name": "stdout",
     "output_type": "stream",
     "text": [
      "En train, el balance de sanos-enfermos es:  1.2456140350877194\n",
      "En test, el balance de sanos-enfermos es:  0.84\n"
     ]
    }
   ],
   "source": [
    "# Revisamos el balance de sanos-enfermos en ambos sets\n",
    "print(\"En train, el balance de sanos-enfermos es: \", sum(y_train == 0) / sum(y_train == 1))\n",
    "print(\"En test, el balance de sanos-enfermos es: \", sum(y_test == 0) / sum(y_test == 1))"
   ]
  },
  {
   "cell_type": "markdown",
   "id": "1b47fb20-0ac4-4a85-bac1-cf26de1548fb",
   "metadata": {},
   "source": [
    "- Deberíamos entender si esto es algo problemático en realidad."
   ]
  },
  {
   "cell_type": "code",
   "execution_count": 19,
   "id": "6ee83347-fbc7-4fa0-918f-0d180caf3cb8",
   "metadata": {},
   "outputs": [
    {
     "name": "stdout",
     "output_type": "stream",
     "text": [
      "En train, el balance de sanos-enfermos es:  1.1694915254237288\n",
      "En test, el balance de sanos-enfermos es:  1.1904761904761905\n"
     ]
    }
   ],
   "source": [
    "# Vamos a probar otro número de seed a ver si se modifica esto\n",
    "X_train, X_test, y_train, y_test = train_test_split(X_transformed, y_class, test_size=0.15, random_state=0)\n",
    "print(\"En train, el balance de sanos-enfermos es: \", sum(y_train == 0) / sum(y_train == 1))\n",
    "print(\"En test, el balance de sanos-enfermos es: \", sum(y_test == 0) / sum(y_test == 1))"
   ]
  },
  {
   "cell_type": "markdown",
   "id": "a294c2ab-2979-4a21-8315-3da45688ff18",
   "metadata": {},
   "source": [
    "- Nos quedamos con este seed que tiene un porcentaje similar al porcentaje del dataset."
   ]
  },
  {
   "cell_type": "code",
   "execution_count": 20,
   "id": "caa67b8d-b99f-4f6c-b5f7-b79d14fee35f",
   "metadata": {},
   "outputs": [
    {
     "data": {
      "text/html": [
       "<style>#sk-container-id-1 {color: black;background-color: white;}#sk-container-id-1 pre{padding: 0;}#sk-container-id-1 div.sk-toggleable {background-color: white;}#sk-container-id-1 label.sk-toggleable__label {cursor: pointer;display: block;width: 100%;margin-bottom: 0;padding: 0.3em;box-sizing: border-box;text-align: center;}#sk-container-id-1 label.sk-toggleable__label-arrow:before {content: \"▸\";float: left;margin-right: 0.25em;color: #696969;}#sk-container-id-1 label.sk-toggleable__label-arrow:hover:before {color: black;}#sk-container-id-1 div.sk-estimator:hover label.sk-toggleable__label-arrow:before {color: black;}#sk-container-id-1 div.sk-toggleable__content {max-height: 0;max-width: 0;overflow: hidden;text-align: left;background-color: #f0f8ff;}#sk-container-id-1 div.sk-toggleable__content pre {margin: 0.2em;color: black;border-radius: 0.25em;background-color: #f0f8ff;}#sk-container-id-1 input.sk-toggleable__control:checked~div.sk-toggleable__content {max-height: 200px;max-width: 100%;overflow: auto;}#sk-container-id-1 input.sk-toggleable__control:checked~label.sk-toggleable__label-arrow:before {content: \"▾\";}#sk-container-id-1 div.sk-estimator input.sk-toggleable__control:checked~label.sk-toggleable__label {background-color: #d4ebff;}#sk-container-id-1 div.sk-label input.sk-toggleable__control:checked~label.sk-toggleable__label {background-color: #d4ebff;}#sk-container-id-1 input.sk-hidden--visually {border: 0;clip: rect(1px 1px 1px 1px);clip: rect(1px, 1px, 1px, 1px);height: 1px;margin: -1px;overflow: hidden;padding: 0;position: absolute;width: 1px;}#sk-container-id-1 div.sk-estimator {font-family: monospace;background-color: #f0f8ff;border: 1px dotted black;border-radius: 0.25em;box-sizing: border-box;margin-bottom: 0.5em;}#sk-container-id-1 div.sk-estimator:hover {background-color: #d4ebff;}#sk-container-id-1 div.sk-parallel-item::after {content: \"\";width: 100%;border-bottom: 1px solid gray;flex-grow: 1;}#sk-container-id-1 div.sk-label:hover label.sk-toggleable__label {background-color: #d4ebff;}#sk-container-id-1 div.sk-serial::before {content: \"\";position: absolute;border-left: 1px solid gray;box-sizing: border-box;top: 0;bottom: 0;left: 50%;z-index: 0;}#sk-container-id-1 div.sk-serial {display: flex;flex-direction: column;align-items: center;background-color: white;padding-right: 0.2em;padding-left: 0.2em;position: relative;}#sk-container-id-1 div.sk-item {position: relative;z-index: 1;}#sk-container-id-1 div.sk-parallel {display: flex;align-items: stretch;justify-content: center;background-color: white;position: relative;}#sk-container-id-1 div.sk-item::before, #sk-container-id-1 div.sk-parallel-item::before {content: \"\";position: absolute;border-left: 1px solid gray;box-sizing: border-box;top: 0;bottom: 0;left: 50%;z-index: -1;}#sk-container-id-1 div.sk-parallel-item {display: flex;flex-direction: column;z-index: 1;position: relative;background-color: white;}#sk-container-id-1 div.sk-parallel-item:first-child::after {align-self: flex-end;width: 50%;}#sk-container-id-1 div.sk-parallel-item:last-child::after {align-self: flex-start;width: 50%;}#sk-container-id-1 div.sk-parallel-item:only-child::after {width: 0;}#sk-container-id-1 div.sk-dashed-wrapped {border: 1px dashed gray;margin: 0 0.4em 0.5em 0.4em;box-sizing: border-box;padding-bottom: 0.4em;background-color: white;}#sk-container-id-1 div.sk-label label {font-family: monospace;font-weight: bold;display: inline-block;line-height: 1.2em;}#sk-container-id-1 div.sk-label-container {text-align: center;}#sk-container-id-1 div.sk-container {/* jupyter's `normalize.less` sets `[hidden] { display: none; }` but bootstrap.min.css set `[hidden] { display: none !important; }` so we also need the `!important` here to be able to override the default hidden behavior on the sphinx rendered scikit-learn.org. See: https://github.com/scikit-learn/scikit-learn/issues/21755 */display: inline-block !important;position: relative;}#sk-container-id-1 div.sk-text-repr-fallback {display: none;}</style><div id=\"sk-container-id-1\" class=\"sk-top-container\"><div class=\"sk-text-repr-fallback\"><pre>LogisticRegression()</pre><b>In a Jupyter environment, please rerun this cell to show the HTML representation or trust the notebook. <br />On GitHub, the HTML representation is unable to render, please try loading this page with nbviewer.org.</b></div><div class=\"sk-container\" hidden><div class=\"sk-item\"><div class=\"sk-estimator sk-toggleable\"><input class=\"sk-toggleable__control sk-hidden--visually\" id=\"sk-estimator-id-1\" type=\"checkbox\" checked><label for=\"sk-estimator-id-1\" class=\"sk-toggleable__label sk-toggleable__label-arrow\">LogisticRegression</label><div class=\"sk-toggleable__content\"><pre>LogisticRegression()</pre></div></div></div></div></div>"
      ],
      "text/plain": [
       "LogisticRegression()"
      ]
     },
     "execution_count": 20,
     "metadata": {},
     "output_type": "execute_result"
    }
   ],
   "source": [
    "# Realizamos un modelo LogisticRegression\n",
    "log_reg = LogisticRegression()\n",
    "log_reg.fit(X_train, y_train)"
   ]
  },
  {
   "cell_type": "code",
   "execution_count": 21,
   "id": "44b4ca8f-47e3-400e-85d0-2cb7961493fc",
   "metadata": {},
   "outputs": [],
   "source": [
    "# Veamos qué predice el modelo del X_test\n",
    "y_pred = log_reg.predict(X_test)"
   ]
  },
  {
   "cell_type": "code",
   "execution_count": 22,
   "id": "c4601239-dc57-482f-a64e-ae24a0c57f7d",
   "metadata": {},
   "outputs": [
    {
     "data": {
      "text/plain": [
       "0.6956521739130435"
      ]
     },
     "execution_count": 22,
     "metadata": {},
     "output_type": "execute_result"
    }
   ],
   "source": [
    "log_reg.score(X_test, y_test)"
   ]
  },
  {
   "cell_type": "markdown",
   "id": "cfb27b30-b6da-4aff-b3b8-c32e12c2ca92",
   "metadata": {},
   "source": [
    "- El score de este modelo es muy bajo. Veamos la matriz de confusión."
   ]
  },
  {
   "cell_type": "code",
   "execution_count": 23,
   "id": "6878850d-48f8-4b7c-a6f6-7900d02c655a",
   "metadata": {},
   "outputs": [],
   "source": [
    "from sklearn.metrics import confusion_matrix"
   ]
  },
  {
   "cell_type": "code",
   "execution_count": 24,
   "id": "4e5d029e-0937-4f4b-a67e-ff43b848bba9",
   "metadata": {},
   "outputs": [
    {
     "data": {
      "text/plain": [
       "array([[22,  3],\n",
       "       [11, 10]], dtype=int64)"
      ]
     },
     "execution_count": 24,
     "metadata": {},
     "output_type": "execute_result"
    }
   ],
   "source": [
    "confusion_matrix(y_test, y_pred)"
   ]
  },
  {
   "cell_type": "code",
   "execution_count": 25,
   "id": "4b40451b-87a6-48eb-b52c-f587a5214550",
   "metadata": {},
   "outputs": [],
   "source": [
    "# Vemos el classification report\n",
    "from sklearn.metrics import classification_report"
   ]
  },
  {
   "cell_type": "code",
   "execution_count": 26,
   "id": "7b336e41-d0a5-4081-90d7-5519e5ef8fbe",
   "metadata": {},
   "outputs": [
    {
     "name": "stdout",
     "output_type": "stream",
     "text": [
      "El reporte de clasificación es: \n",
      "               precision    recall  f1-score   support\n",
      "\n",
      "           0       0.67      0.88      0.76        25\n",
      "           1       0.77      0.48      0.59        21\n",
      "\n",
      "    accuracy                           0.70        46\n",
      "   macro avg       0.72      0.68      0.67        46\n",
      "weighted avg       0.71      0.70      0.68        46\n",
      "\n"
     ]
    }
   ],
   "source": [
    "print(\"El reporte de clasificación es: \\n\",classification_report(y_test, y_pred))"
   ]
  },
  {
   "cell_type": "markdown",
   "id": "b47b265b-7bf0-4061-a899-e41f632ebfb3",
   "metadata": {},
   "source": [
    "### PCA y datos escalados"
   ]
  },
  {
   "cell_type": "code",
   "execution_count": 27,
   "id": "c3872ba2-df4c-4e54-9ec7-a21db3ce3900",
   "metadata": {},
   "outputs": [],
   "source": [
    "# Como no tiene buen puntaje, podemos intentar mejorar escalando todos los datos\n",
    "scaler = StandardScaler()\n",
    "X_scaled = scaler.fit_transform(X_transformed)"
   ]
  },
  {
   "cell_type": "code",
   "execution_count": 28,
   "id": "f713d40b-a1e2-43c3-b9f4-e1e10d865df2",
   "metadata": {},
   "outputs": [
    {
     "name": "stdout",
     "output_type": "stream",
     "text": [
      "La matriz de confusión es: \n",
      " [[22  3]\n",
      " [11 10]]\n",
      "El reporte de clasificación es: \n",
      "               precision    recall  f1-score   support\n",
      "\n",
      "           0       0.67      0.88      0.76        25\n",
      "           1       0.77      0.48      0.59        21\n",
      "\n",
      "    accuracy                           0.70        46\n",
      "   macro avg       0.72      0.68      0.67        46\n",
      "weighted avg       0.71      0.70      0.68        46\n",
      "\n"
     ]
    }
   ],
   "source": [
    "# Realizamos los mismos pasos y generamos el modelo de regresión logística\n",
    "X_train, X_test, y_train, y_test = train_test_split(X_scaled, y_class, test_size=0.15, random_state=0)\n",
    "\n",
    "# Realizamos un modelo LogisticRegression\n",
    "log_reg = LogisticRegression()\n",
    "log_reg.fit(X_train, y_train)\n",
    "\n",
    "# Veamos qué predice el modelo del X_test\n",
    "y_pred = log_reg.predict(X_test)\n",
    "print(\"La matriz de confusión es: \\n\",confusion_matrix(y_test, y_pred))\n",
    "print(\"El reporte de clasificación es: \\n\",classification_report(y_test, y_pred))"
   ]
  },
  {
   "cell_type": "markdown",
   "id": "c78933df-b0dd-4462-9df3-63ea29ed56f1",
   "metadata": {},
   "source": [
    "- No se ve ningún cambio al escalar los datos"
   ]
  },
  {
   "cell_type": "code",
   "execution_count": 29,
   "id": "dcddb553-9cf1-4de1-a64d-add6d1d33ecf",
   "metadata": {},
   "outputs": [
    {
     "data": {
      "text/html": [
       "<style>#sk-container-id-2 {color: black;background-color: white;}#sk-container-id-2 pre{padding: 0;}#sk-container-id-2 div.sk-toggleable {background-color: white;}#sk-container-id-2 label.sk-toggleable__label {cursor: pointer;display: block;width: 100%;margin-bottom: 0;padding: 0.3em;box-sizing: border-box;text-align: center;}#sk-container-id-2 label.sk-toggleable__label-arrow:before {content: \"▸\";float: left;margin-right: 0.25em;color: #696969;}#sk-container-id-2 label.sk-toggleable__label-arrow:hover:before {color: black;}#sk-container-id-2 div.sk-estimator:hover label.sk-toggleable__label-arrow:before {color: black;}#sk-container-id-2 div.sk-toggleable__content {max-height: 0;max-width: 0;overflow: hidden;text-align: left;background-color: #f0f8ff;}#sk-container-id-2 div.sk-toggleable__content pre {margin: 0.2em;color: black;border-radius: 0.25em;background-color: #f0f8ff;}#sk-container-id-2 input.sk-toggleable__control:checked~div.sk-toggleable__content {max-height: 200px;max-width: 100%;overflow: auto;}#sk-container-id-2 input.sk-toggleable__control:checked~label.sk-toggleable__label-arrow:before {content: \"▾\";}#sk-container-id-2 div.sk-estimator input.sk-toggleable__control:checked~label.sk-toggleable__label {background-color: #d4ebff;}#sk-container-id-2 div.sk-label input.sk-toggleable__control:checked~label.sk-toggleable__label {background-color: #d4ebff;}#sk-container-id-2 input.sk-hidden--visually {border: 0;clip: rect(1px 1px 1px 1px);clip: rect(1px, 1px, 1px, 1px);height: 1px;margin: -1px;overflow: hidden;padding: 0;position: absolute;width: 1px;}#sk-container-id-2 div.sk-estimator {font-family: monospace;background-color: #f0f8ff;border: 1px dotted black;border-radius: 0.25em;box-sizing: border-box;margin-bottom: 0.5em;}#sk-container-id-2 div.sk-estimator:hover {background-color: #d4ebff;}#sk-container-id-2 div.sk-parallel-item::after {content: \"\";width: 100%;border-bottom: 1px solid gray;flex-grow: 1;}#sk-container-id-2 div.sk-label:hover label.sk-toggleable__label {background-color: #d4ebff;}#sk-container-id-2 div.sk-serial::before {content: \"\";position: absolute;border-left: 1px solid gray;box-sizing: border-box;top: 0;bottom: 0;left: 50%;z-index: 0;}#sk-container-id-2 div.sk-serial {display: flex;flex-direction: column;align-items: center;background-color: white;padding-right: 0.2em;padding-left: 0.2em;position: relative;}#sk-container-id-2 div.sk-item {position: relative;z-index: 1;}#sk-container-id-2 div.sk-parallel {display: flex;align-items: stretch;justify-content: center;background-color: white;position: relative;}#sk-container-id-2 div.sk-item::before, #sk-container-id-2 div.sk-parallel-item::before {content: \"\";position: absolute;border-left: 1px solid gray;box-sizing: border-box;top: 0;bottom: 0;left: 50%;z-index: -1;}#sk-container-id-2 div.sk-parallel-item {display: flex;flex-direction: column;z-index: 1;position: relative;background-color: white;}#sk-container-id-2 div.sk-parallel-item:first-child::after {align-self: flex-end;width: 50%;}#sk-container-id-2 div.sk-parallel-item:last-child::after {align-self: flex-start;width: 50%;}#sk-container-id-2 div.sk-parallel-item:only-child::after {width: 0;}#sk-container-id-2 div.sk-dashed-wrapped {border: 1px dashed gray;margin: 0 0.4em 0.5em 0.4em;box-sizing: border-box;padding-bottom: 0.4em;background-color: white;}#sk-container-id-2 div.sk-label label {font-family: monospace;font-weight: bold;display: inline-block;line-height: 1.2em;}#sk-container-id-2 div.sk-label-container {text-align: center;}#sk-container-id-2 div.sk-container {/* jupyter's `normalize.less` sets `[hidden] { display: none; }` but bootstrap.min.css set `[hidden] { display: none !important; }` so we also need the `!important` here to be able to override the default hidden behavior on the sphinx rendered scikit-learn.org. See: https://github.com/scikit-learn/scikit-learn/issues/21755 */display: inline-block !important;position: relative;}#sk-container-id-2 div.sk-text-repr-fallback {display: none;}</style><div id=\"sk-container-id-2\" class=\"sk-top-container\"><div class=\"sk-text-repr-fallback\"><pre>LogisticRegressionCV(cv=5, random_state=0)</pre><b>In a Jupyter environment, please rerun this cell to show the HTML representation or trust the notebook. <br />On GitHub, the HTML representation is unable to render, please try loading this page with nbviewer.org.</b></div><div class=\"sk-container\" hidden><div class=\"sk-item\"><div class=\"sk-estimator sk-toggleable\"><input class=\"sk-toggleable__control sk-hidden--visually\" id=\"sk-estimator-id-2\" type=\"checkbox\" checked><label for=\"sk-estimator-id-2\" class=\"sk-toggleable__label sk-toggleable__label-arrow\">LogisticRegressionCV</label><div class=\"sk-toggleable__content\"><pre>LogisticRegressionCV(cv=5, random_state=0)</pre></div></div></div></div></div>"
      ],
      "text/plain": [
       "LogisticRegressionCV(cv=5, random_state=0)"
      ]
     },
     "execution_count": 29,
     "metadata": {},
     "output_type": "execute_result"
    }
   ],
   "source": [
    "# Probamos con un modelo LogisticRegressionCV\n",
    "log_regCV = LogisticRegressionCV(cv=5, random_state=0)\n",
    "log_regCV.fit(X_train, y_train)"
   ]
  },
  {
   "cell_type": "code",
   "execution_count": 30,
   "id": "9a8b00b8-3a4d-4d3d-a9c4-c56f5c76718a",
   "metadata": {},
   "outputs": [
    {
     "name": "stdout",
     "output_type": "stream",
     "text": [
      "La matriz de confusión es: \n",
      " [[22  3]\n",
      " [11 10]]\n",
      "El reporte de clasificación es: \n",
      "               precision    recall  f1-score   support\n",
      "\n",
      "           0       0.67      0.88      0.76        25\n",
      "           1       0.77      0.48      0.59        21\n",
      "\n",
      "    accuracy                           0.70        46\n",
      "   macro avg       0.72      0.68      0.67        46\n",
      "weighted avg       0.71      0.70      0.68        46\n",
      "\n"
     ]
    }
   ],
   "source": [
    "# Veamos qué predice el modelo del X_test\n",
    "y_pred = log_reg.predict(X_test)\n",
    "print(\"La matriz de confusión es: \\n\",confusion_matrix(y_test, y_pred))\n",
    "print(\"El reporte de clasificación es: \\n\",classification_report(y_test, y_pred))"
   ]
  },
  {
   "cell_type": "markdown",
   "id": "e4246407-9fa7-4649-b8c8-0b612c1f9c21",
   "metadata": {},
   "source": [
    "### PCA escalado con 5% de test"
   ]
  },
  {
   "cell_type": "code",
   "execution_count": 31,
   "id": "3887ddff-bbe4-4a4d-b8d3-fd7c2f848304",
   "metadata": {},
   "outputs": [
    {
     "name": "stdout",
     "output_type": "stream",
     "text": [
      "En train, el balance de sanos-enfermos es:  1.183206106870229\n",
      "En test, el balance de sanos-enfermos es:  1.0\n"
     ]
    }
   ],
   "source": [
    "# ¿Qué pasa si aumentamos el set de train?\n",
    "X_train, X_test, y_train, y_test = train_test_split(X_scaled, y_class, test_size=0.05, random_state=17)\n",
    "print(\"En train, el balance de sanos-enfermos es: \", sum(y_train == 0) / sum(y_train == 1))\n",
    "print(\"En test, el balance de sanos-enfermos es: \", sum(y_test == 0) / sum(y_test == 1))"
   ]
  },
  {
   "cell_type": "code",
   "execution_count": 32,
   "id": "d7a6f294-d38d-4406-bc1a-02771c8d99f9",
   "metadata": {},
   "outputs": [
    {
     "name": "stdout",
     "output_type": "stream",
     "text": [
      "La matriz de confusión es: \n",
      " [[8 0]\n",
      " [2 6]]\n",
      "El reporte de clasificación es: \n",
      "               precision    recall  f1-score   support\n",
      "\n",
      "           0       0.80      1.00      0.89         8\n",
      "           1       1.00      0.75      0.86         8\n",
      "\n",
      "    accuracy                           0.88        16\n",
      "   macro avg       0.90      0.88      0.87        16\n",
      "weighted avg       0.90      0.88      0.87        16\n",
      "\n"
     ]
    }
   ],
   "source": [
    "# Realizamos un modelo LogisticRegression\n",
    "log_reg = LogisticRegression()\n",
    "log_reg.fit(X_train, y_train)\n",
    "\n",
    "# Veamos qué predice el modelo del X_test\n",
    "y_pred = log_reg.predict(X_test)\n",
    "print(\"La matriz de confusión es: \\n\",confusion_matrix(y_test, y_pred))\n",
    "print(\"El reporte de clasificación es: \\n\",classification_report(y_test, y_pred))"
   ]
  },
  {
   "cell_type": "markdown",
   "id": "aeb592ff-da7c-41db-9ac4-85a91116fd6e",
   "metadata": {},
   "source": [
    "- Mejora la performance del modelo a aumentar los datos de entrenamiento"
   ]
  },
  {
   "cell_type": "markdown",
   "id": "0b555c0c-9d36-4160-b7ec-b3789d1c66ca",
   "metadata": {},
   "source": [
    "### Sin PCA y con categorical features y 15% test"
   ]
  },
  {
   "cell_type": "code",
   "execution_count": 42,
   "id": "07509b85-b997-402f-b6e1-ab8faef07ca0",
   "metadata": {},
   "outputs": [],
   "source": [
    "# Apagamos los warnings de convergencia\n",
    "import warnings\n",
    "from sklearn.exceptions import ConvergenceWarning\n",
    "warnings.filterwarnings('ignore', category=ConvergenceWarning)"
   ]
  },
  {
   "cell_type": "code",
   "execution_count": 43,
   "id": "278c5da2-7bc5-4445-b33f-cb0e73e98852",
   "metadata": {},
   "outputs": [
    {
     "data": {
      "text/plain": [
       "['sex', 'cp', 'fbs', 'restecg', 'exang', 'slope', 'ca', 'thal']"
      ]
     },
     "execution_count": 43,
     "metadata": {},
     "output_type": "execute_result"
    }
   ],
   "source": [
    "# Vamos a estudiar el impacto en la performance de la clasificación usando las categorical_features\n",
    "# Revisamos cuales eran las categorías\n",
    "categorical_features"
   ]
  },
  {
   "cell_type": "code",
   "execution_count": 44,
   "id": "c6c5194c-ed54-4ece-89d8-38d376876cf5",
   "metadata": {},
   "outputs": [
    {
     "name": "stdout",
     "output_type": "stream",
     "text": [
      "<class 'pandas.core.frame.DataFrame'>\n",
      "RangeIndex: 302 entries, 0 to 301\n",
      "Data columns (total 8 columns):\n",
      " #   Column   Non-Null Count  Dtype  \n",
      "---  ------   --------------  -----  \n",
      " 0   sex      302 non-null    float64\n",
      " 1   cp       302 non-null    float64\n",
      " 2   fbs      302 non-null    float64\n",
      " 3   restecg  302 non-null    float64\n",
      " 4   exang    302 non-null    float64\n",
      " 5   slope    302 non-null    float64\n",
      " 6   ca       302 non-null    object \n",
      " 7   thal     302 non-null    object \n",
      "dtypes: float64(6), object(2)\n",
      "memory usage: 19.0+ KB\n"
     ]
    }
   ],
   "source": [
    "# Vemos si hay valores no nulos\n",
    "my_data[categorical_features].info()"
   ]
  },
  {
   "cell_type": "code",
   "execution_count": 45,
   "id": "2c6f457a-c264-4c1f-a71b-cc009dbc333e",
   "metadata": {},
   "outputs": [],
   "source": [
    "# La definimos como cats\n",
    "cats = my_data[categorical_features]"
   ]
  },
  {
   "cell_type": "code",
   "execution_count": 46,
   "id": "dcbd9dc7-8fc7-48bf-b2d7-9435f024a3dc",
   "metadata": {},
   "outputs": [
    {
     "data": {
      "text/html": [
       "<div>\n",
       "<style scoped>\n",
       "    .dataframe tbody tr th:only-of-type {\n",
       "        vertical-align: middle;\n",
       "    }\n",
       "\n",
       "    .dataframe tbody tr th {\n",
       "        vertical-align: top;\n",
       "    }\n",
       "\n",
       "    .dataframe thead th {\n",
       "        text-align: right;\n",
       "    }\n",
       "</style>\n",
       "<table border=\"1\" class=\"dataframe\">\n",
       "  <thead>\n",
       "    <tr style=\"text-align: right;\">\n",
       "      <th></th>\n",
       "      <th>age</th>\n",
       "      <th>sex</th>\n",
       "      <th>cp</th>\n",
       "      <th>trestbps</th>\n",
       "      <th>chol</th>\n",
       "      <th>fbs</th>\n",
       "      <th>restecg</th>\n",
       "      <th>thalach</th>\n",
       "      <th>exang</th>\n",
       "      <th>oldpeak</th>\n",
       "      <th>...</th>\n",
       "      <th>num</th>\n",
       "      <th>ca_0.0</th>\n",
       "      <th>ca_1.0</th>\n",
       "      <th>ca_2.0</th>\n",
       "      <th>ca_3.0</th>\n",
       "      <th>ca_?</th>\n",
       "      <th>thal_3.0</th>\n",
       "      <th>thal_6.0</th>\n",
       "      <th>thal_7.0</th>\n",
       "      <th>thal_?</th>\n",
       "    </tr>\n",
       "  </thead>\n",
       "  <tbody>\n",
       "    <tr>\n",
       "      <th>0</th>\n",
       "      <td>67.0</td>\n",
       "      <td>1.0</td>\n",
       "      <td>4.0</td>\n",
       "      <td>160.0</td>\n",
       "      <td>286.0</td>\n",
       "      <td>0.0</td>\n",
       "      <td>2.0</td>\n",
       "      <td>108.0</td>\n",
       "      <td>1.0</td>\n",
       "      <td>1.5</td>\n",
       "      <td>...</td>\n",
       "      <td>2</td>\n",
       "      <td>0</td>\n",
       "      <td>0</td>\n",
       "      <td>0</td>\n",
       "      <td>1</td>\n",
       "      <td>0</td>\n",
       "      <td>1</td>\n",
       "      <td>0</td>\n",
       "      <td>0</td>\n",
       "      <td>0</td>\n",
       "    </tr>\n",
       "    <tr>\n",
       "      <th>1</th>\n",
       "      <td>67.0</td>\n",
       "      <td>1.0</td>\n",
       "      <td>4.0</td>\n",
       "      <td>120.0</td>\n",
       "      <td>229.0</td>\n",
       "      <td>0.0</td>\n",
       "      <td>2.0</td>\n",
       "      <td>129.0</td>\n",
       "      <td>1.0</td>\n",
       "      <td>2.6</td>\n",
       "      <td>...</td>\n",
       "      <td>1</td>\n",
       "      <td>0</td>\n",
       "      <td>0</td>\n",
       "      <td>1</td>\n",
       "      <td>0</td>\n",
       "      <td>0</td>\n",
       "      <td>0</td>\n",
       "      <td>0</td>\n",
       "      <td>1</td>\n",
       "      <td>0</td>\n",
       "    </tr>\n",
       "    <tr>\n",
       "      <th>2</th>\n",
       "      <td>37.0</td>\n",
       "      <td>1.0</td>\n",
       "      <td>3.0</td>\n",
       "      <td>130.0</td>\n",
       "      <td>250.0</td>\n",
       "      <td>0.0</td>\n",
       "      <td>0.0</td>\n",
       "      <td>187.0</td>\n",
       "      <td>0.0</td>\n",
       "      <td>3.5</td>\n",
       "      <td>...</td>\n",
       "      <td>0</td>\n",
       "      <td>1</td>\n",
       "      <td>0</td>\n",
       "      <td>0</td>\n",
       "      <td>0</td>\n",
       "      <td>0</td>\n",
       "      <td>1</td>\n",
       "      <td>0</td>\n",
       "      <td>0</td>\n",
       "      <td>0</td>\n",
       "    </tr>\n",
       "    <tr>\n",
       "      <th>3</th>\n",
       "      <td>41.0</td>\n",
       "      <td>0.0</td>\n",
       "      <td>2.0</td>\n",
       "      <td>130.0</td>\n",
       "      <td>204.0</td>\n",
       "      <td>0.0</td>\n",
       "      <td>2.0</td>\n",
       "      <td>172.0</td>\n",
       "      <td>0.0</td>\n",
       "      <td>1.4</td>\n",
       "      <td>...</td>\n",
       "      <td>0</td>\n",
       "      <td>1</td>\n",
       "      <td>0</td>\n",
       "      <td>0</td>\n",
       "      <td>0</td>\n",
       "      <td>0</td>\n",
       "      <td>1</td>\n",
       "      <td>0</td>\n",
       "      <td>0</td>\n",
       "      <td>0</td>\n",
       "    </tr>\n",
       "    <tr>\n",
       "      <th>4</th>\n",
       "      <td>56.0</td>\n",
       "      <td>1.0</td>\n",
       "      <td>2.0</td>\n",
       "      <td>120.0</td>\n",
       "      <td>236.0</td>\n",
       "      <td>0.0</td>\n",
       "      <td>0.0</td>\n",
       "      <td>178.0</td>\n",
       "      <td>0.0</td>\n",
       "      <td>0.8</td>\n",
       "      <td>...</td>\n",
       "      <td>0</td>\n",
       "      <td>1</td>\n",
       "      <td>0</td>\n",
       "      <td>0</td>\n",
       "      <td>0</td>\n",
       "      <td>0</td>\n",
       "      <td>1</td>\n",
       "      <td>0</td>\n",
       "      <td>0</td>\n",
       "      <td>0</td>\n",
       "    </tr>\n",
       "    <tr>\n",
       "      <th>...</th>\n",
       "      <td>...</td>\n",
       "      <td>...</td>\n",
       "      <td>...</td>\n",
       "      <td>...</td>\n",
       "      <td>...</td>\n",
       "      <td>...</td>\n",
       "      <td>...</td>\n",
       "      <td>...</td>\n",
       "      <td>...</td>\n",
       "      <td>...</td>\n",
       "      <td>...</td>\n",
       "      <td>...</td>\n",
       "      <td>...</td>\n",
       "      <td>...</td>\n",
       "      <td>...</td>\n",
       "      <td>...</td>\n",
       "      <td>...</td>\n",
       "      <td>...</td>\n",
       "      <td>...</td>\n",
       "      <td>...</td>\n",
       "      <td>...</td>\n",
       "    </tr>\n",
       "    <tr>\n",
       "      <th>297</th>\n",
       "      <td>45.0</td>\n",
       "      <td>1.0</td>\n",
       "      <td>1.0</td>\n",
       "      <td>110.0</td>\n",
       "      <td>264.0</td>\n",
       "      <td>0.0</td>\n",
       "      <td>0.0</td>\n",
       "      <td>132.0</td>\n",
       "      <td>0.0</td>\n",
       "      <td>1.2</td>\n",
       "      <td>...</td>\n",
       "      <td>1</td>\n",
       "      <td>1</td>\n",
       "      <td>0</td>\n",
       "      <td>0</td>\n",
       "      <td>0</td>\n",
       "      <td>0</td>\n",
       "      <td>0</td>\n",
       "      <td>0</td>\n",
       "      <td>1</td>\n",
       "      <td>0</td>\n",
       "    </tr>\n",
       "    <tr>\n",
       "      <th>298</th>\n",
       "      <td>68.0</td>\n",
       "      <td>1.0</td>\n",
       "      <td>4.0</td>\n",
       "      <td>144.0</td>\n",
       "      <td>193.0</td>\n",
       "      <td>1.0</td>\n",
       "      <td>0.0</td>\n",
       "      <td>141.0</td>\n",
       "      <td>0.0</td>\n",
       "      <td>3.4</td>\n",
       "      <td>...</td>\n",
       "      <td>2</td>\n",
       "      <td>0</td>\n",
       "      <td>0</td>\n",
       "      <td>1</td>\n",
       "      <td>0</td>\n",
       "      <td>0</td>\n",
       "      <td>0</td>\n",
       "      <td>0</td>\n",
       "      <td>1</td>\n",
       "      <td>0</td>\n",
       "    </tr>\n",
       "    <tr>\n",
       "      <th>299</th>\n",
       "      <td>57.0</td>\n",
       "      <td>1.0</td>\n",
       "      <td>4.0</td>\n",
       "      <td>130.0</td>\n",
       "      <td>131.0</td>\n",
       "      <td>0.0</td>\n",
       "      <td>0.0</td>\n",
       "      <td>115.0</td>\n",
       "      <td>1.0</td>\n",
       "      <td>1.2</td>\n",
       "      <td>...</td>\n",
       "      <td>3</td>\n",
       "      <td>0</td>\n",
       "      <td>1</td>\n",
       "      <td>0</td>\n",
       "      <td>0</td>\n",
       "      <td>0</td>\n",
       "      <td>0</td>\n",
       "      <td>0</td>\n",
       "      <td>1</td>\n",
       "      <td>0</td>\n",
       "    </tr>\n",
       "    <tr>\n",
       "      <th>300</th>\n",
       "      <td>57.0</td>\n",
       "      <td>0.0</td>\n",
       "      <td>2.0</td>\n",
       "      <td>130.0</td>\n",
       "      <td>236.0</td>\n",
       "      <td>0.0</td>\n",
       "      <td>2.0</td>\n",
       "      <td>174.0</td>\n",
       "      <td>0.0</td>\n",
       "      <td>0.0</td>\n",
       "      <td>...</td>\n",
       "      <td>1</td>\n",
       "      <td>0</td>\n",
       "      <td>1</td>\n",
       "      <td>0</td>\n",
       "      <td>0</td>\n",
       "      <td>0</td>\n",
       "      <td>1</td>\n",
       "      <td>0</td>\n",
       "      <td>0</td>\n",
       "      <td>0</td>\n",
       "    </tr>\n",
       "    <tr>\n",
       "      <th>301</th>\n",
       "      <td>38.0</td>\n",
       "      <td>1.0</td>\n",
       "      <td>3.0</td>\n",
       "      <td>138.0</td>\n",
       "      <td>175.0</td>\n",
       "      <td>0.0</td>\n",
       "      <td>0.0</td>\n",
       "      <td>173.0</td>\n",
       "      <td>0.0</td>\n",
       "      <td>0.0</td>\n",
       "      <td>...</td>\n",
       "      <td>0</td>\n",
       "      <td>0</td>\n",
       "      <td>0</td>\n",
       "      <td>0</td>\n",
       "      <td>0</td>\n",
       "      <td>1</td>\n",
       "      <td>1</td>\n",
       "      <td>0</td>\n",
       "      <td>0</td>\n",
       "      <td>0</td>\n",
       "    </tr>\n",
       "  </tbody>\n",
       "</table>\n",
       "<p>302 rows × 21 columns</p>\n",
       "</div>"
      ],
      "text/plain": [
       "      age  sex   cp  trestbps   chol  fbs  restecg  thalach  exang  oldpeak  \\\n",
       "0    67.0  1.0  4.0     160.0  286.0  0.0      2.0    108.0    1.0      1.5   \n",
       "1    67.0  1.0  4.0     120.0  229.0  0.0      2.0    129.0    1.0      2.6   \n",
       "2    37.0  1.0  3.0     130.0  250.0  0.0      0.0    187.0    0.0      3.5   \n",
       "3    41.0  0.0  2.0     130.0  204.0  0.0      2.0    172.0    0.0      1.4   \n",
       "4    56.0  1.0  2.0     120.0  236.0  0.0      0.0    178.0    0.0      0.8   \n",
       "..    ...  ...  ...       ...    ...  ...      ...      ...    ...      ...   \n",
       "297  45.0  1.0  1.0     110.0  264.0  0.0      0.0    132.0    0.0      1.2   \n",
       "298  68.0  1.0  4.0     144.0  193.0  1.0      0.0    141.0    0.0      3.4   \n",
       "299  57.0  1.0  4.0     130.0  131.0  0.0      0.0    115.0    1.0      1.2   \n",
       "300  57.0  0.0  2.0     130.0  236.0  0.0      2.0    174.0    0.0      0.0   \n",
       "301  38.0  1.0  3.0     138.0  175.0  0.0      0.0    173.0    0.0      0.0   \n",
       "\n",
       "     ...  num  ca_0.0  ca_1.0  ca_2.0  ca_3.0  ca_?  thal_3.0  thal_6.0  \\\n",
       "0    ...    2       0       0       0       1     0         1         0   \n",
       "1    ...    1       0       0       1       0     0         0         0   \n",
       "2    ...    0       1       0       0       0     0         1         0   \n",
       "3    ...    0       1       0       0       0     0         1         0   \n",
       "4    ...    0       1       0       0       0     0         1         0   \n",
       "..   ...  ...     ...     ...     ...     ...   ...       ...       ...   \n",
       "297  ...    1       1       0       0       0     0         0         0   \n",
       "298  ...    2       0       0       1       0     0         0         0   \n",
       "299  ...    3       0       1       0       0     0         0         0   \n",
       "300  ...    1       0       1       0       0     0         1         0   \n",
       "301  ...    0       0       0       0       0     1         1         0   \n",
       "\n",
       "     thal_7.0  thal_?  \n",
       "0           0       0  \n",
       "1           1       0  \n",
       "2           0       0  \n",
       "3           0       0  \n",
       "4           0       0  \n",
       "..        ...     ...  \n",
       "297         1       0  \n",
       "298         1       0  \n",
       "299         1       0  \n",
       "300         0       0  \n",
       "301         0       0  \n",
       "\n",
       "[302 rows x 21 columns]"
      ]
     },
     "execution_count": 46,
     "metadata": {},
     "output_type": "execute_result"
    }
   ],
   "source": [
    "# Realizamos un complete del dataset\n",
    "complete_dataset = pd.get_dummies(my_data)\n",
    "complete_dataset"
   ]
  },
  {
   "cell_type": "code",
   "execution_count": 47,
   "id": "d14a109f-5463-4c8a-b410-fd217c578cad",
   "metadata": {},
   "outputs": [],
   "source": [
    "# Definimos un X completo\n",
    "X_complete = complete_dataset.drop('num', axis=1)"
   ]
  },
  {
   "cell_type": "code",
   "execution_count": 50,
   "id": "6351e7b9-053f-49c1-91e5-f841eb458e78",
   "metadata": {},
   "outputs": [
    {
     "name": "stdout",
     "output_type": "stream",
     "text": [
      "En train, el balance de sanos-enfermos es:  1.1694915254237288\n",
      "En test, el balance de sanos-enfermos es:  1.1904761904761905\n",
      "La matriz de confusión es: \n",
      " [[20  5]\n",
      " [ 2 19]]\n",
      "El reporte de clasificación es: \n",
      "               precision    recall  f1-score   support\n",
      "\n",
      "           0       0.91      0.80      0.85        25\n",
      "           1       0.79      0.90      0.84        21\n",
      "\n",
      "    accuracy                           0.85        46\n",
      "   macro avg       0.85      0.85      0.85        46\n",
      "weighted avg       0.86      0.85      0.85        46\n",
      "\n"
     ]
    }
   ],
   "source": [
    "# Hacemos el split con este X y con el y_class\n",
    "X_train, X_test, y_train, y_test = train_test_split(X_complete, y_class, test_size=0.15, random_state=0)\n",
    "print(\"En train, el balance de sanos-enfermos es: \", sum(y_train == 0) / sum(y_train == 1))\n",
    "print(\"En test, el balance de sanos-enfermos es: \", sum(y_test == 0) / sum(y_test == 1))\n",
    "\n",
    "# Realizamos un modelo LogisticRegression\n",
    "log_reg = LogisticRegression()\n",
    "log_reg.fit(X_train, y_train)\n",
    "\n",
    "# Veamos qué predice el modelo del X_test\n",
    "y_pred = log_reg.predict(X_test)\n",
    "print(\"La matriz de confusión es: \\n\",confusion_matrix(y_test, y_pred))\n",
    "print(\"El reporte de clasificación es: \\n\",classification_report(y_test, y_pred))"
   ]
  },
  {
   "cell_type": "code",
   "execution_count": 51,
   "id": "f0a10d57-b131-41ba-a2ac-cf617e076b2a",
   "metadata": {},
   "outputs": [
    {
     "name": "stdout",
     "output_type": "stream",
     "text": [
      "La matriz de confusión es: \n",
      " [[20  5]\n",
      " [ 2 19]]\n",
      "El reporte de clasificación es: \n",
      "               precision    recall  f1-score   support\n",
      "\n",
      "           0       0.91      0.80      0.85        25\n",
      "           1       0.79      0.90      0.84        21\n",
      "\n",
      "    accuracy                           0.85        46\n",
      "   macro avg       0.85      0.85      0.85        46\n",
      "weighted avg       0.86      0.85      0.85        46\n",
      "\n"
     ]
    }
   ],
   "source": [
    "# Probamos con un modelo LogisticRegressionCV\n",
    "log_regCV = LogisticRegressionCV(cv=5, random_state=0)\n",
    "log_regCV.fit(X_train, y_train)\n",
    "\n",
    "# Veamos qué predice el modelo del X_test\n",
    "y_pred = log_reg.predict(X_test)\n",
    "print(\"La matriz de confusión es: \\n\",confusion_matrix(y_test, y_pred))\n",
    "print(\"El reporte de clasificación es: \\n\",classification_report(y_test, y_pred))"
   ]
  },
  {
   "cell_type": "markdown",
   "id": "9248a760-e6f6-4cb9-9407-b408e6698693",
   "metadata": {},
   "source": [
    "- Vemos que el modelo se explica mucho mejor al contar con todas las variables categóricas al mismo % de test."
   ]
  },
  {
   "cell_type": "code",
   "execution_count": null,
   "id": "4756476d-13e0-4c43-9958-30bd45d4f0b6",
   "metadata": {},
   "outputs": [],
   "source": []
  }
 ],
 "metadata": {
  "kernelspec": {
   "display_name": "Python 3 (ipykernel)",
   "language": "python",
   "name": "python3"
  },
  "language_info": {
   "codemirror_mode": {
    "name": "ipython",
    "version": 3
   },
   "file_extension": ".py",
   "mimetype": "text/x-python",
   "name": "python",
   "nbconvert_exporter": "python",
   "pygments_lexer": "ipython3",
   "version": "3.11.1"
  },
  "vscode": {
   "interpreter": {
    "hash": "23cb2388443d556543181094e3ae896af451ee7d366981f58b81df73afb487db"
   }
  }
 },
 "nbformat": 4,
 "nbformat_minor": 5
}
