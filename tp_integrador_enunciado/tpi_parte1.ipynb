{
 "cells": [
  {
   "attachments": {},
   "cell_type": "markdown",
   "id": "07289bb0",
   "metadata": {},
   "source": [
    "# Trabajo integrador - Parte 1\n",
    "## Python y Numpy\n",
    "\n",
    "**Nombre**: Luis Pablo Segovia"
   ]
  },
  {
   "cell_type": "code",
   "execution_count": 1,
   "id": "aaf94e0a",
   "metadata": {
    "id": "aaf94e0a"
   },
   "outputs": [],
   "source": [
    "import numpy as np"
   ]
  },
  {
   "attachments": {},
   "cell_type": "markdown",
   "id": "0ffe9554",
   "metadata": {},
   "source": [
    "## Ejercicio 1\n",
    "\n",
    "Dada una matriz en formato *numpy array*, donde cada fila de la matriz representa un vector matemático, se requiere computar las normas $l_0$, $l_1$, $l_2$, $l_{\\infty}$, según la siguientes definiciones:\n",
    "\n",
    "\\begin{equation}\n",
    "    ||\\mathbf{x}||^{p} = \\bigg(\\sum_{j=1}^{n}{|x_i|^p}\\bigg)^{\\frac{1}{p}}\n",
    "\\end{equation}\n",
    "\n",
    "con los casos especiales para $p=0$ y $p=\\infty$ siendo:\n",
    "\n",
    "\\begin{equation}\n",
    "    \\begin{array}{rcl}\n",
    "        ||\\mathbf{x}||_0 & = & \\bigg(\\sum_{j=1 \\wedge x_j != 0}{|x_i|}\\bigg)\\\\\n",
    "        ||\\mathbf{x}||_{\\infty} & = & \\max_{i}{|x_i|}\\\\\n",
    "    \\end{array}\n",
    "\\end{equation}"
   ]
  },
  {
   "cell_type": "code",
   "execution_count": 2,
   "id": "0bdb0ee3",
   "metadata": {},
   "outputs": [],
   "source": [
    "# Definimos una función que permita computar la norma\n",
    "def aplicar_norma(matriz: np.array, orden):\n",
    "    resultado = []\n",
    "    for vector in range(len(matriz)):\n",
    "        if orden == 0:\n",
    "            norma_cero = float(np.sum(np.abs(matriz[vector])))\n",
    "            resultado.append(norma_cero)\n",
    "        elif orden == np.inf:\n",
    "            norma_inf = float(np.max(np.abs(matriz[vector])))\n",
    "            resultado.append(norma_inf)\n",
    "        else:\n",
    "            norma_p = float((np.sum((np.abs(matriz[vector]))**orden))**(1/orden))\n",
    "            resultado.append(norma_p)\n",
    "    print(f'El resultado de la norma {orden} es (vector, resultado): {tuple(enumerate(resultado))}')"
   ]
  },
  {
   "attachments": {},
   "cell_type": "markdown",
   "id": "dd66d862",
   "metadata": {},
   "source": [
    "## Ejercicio 2\n",
    "\n",
    "En clasificación contamos con dos arreglos, la “verdad” y la “predicción”. Cada elemento de los arreglos pueden tomar dos valores, “True” (representado por 1) y “False” (representado por 0). Entonces podemos definir 4 variables:\n",
    "\n",
    "* True Positive (TP): El valor verdadero es 1 y el valor predicho es 1\n",
    "* True Negative (TN): El valor verdadero es 0 y el valor predicho es 0\n",
    "* False Positive (FP): El valor verdadero es 0 y el valor predicho es 1\n",
    "* False Negative (FN): El valor verdadero es 1 y el valor predicho es 0\n",
    "\n",
    "A partir de esto definimos:\n",
    "\n",
    "* Precision = TP / (TP + FP)\n",
    "* Recall = TP / (TP + FN)\n",
    "* Accuracy = (TP + TN) / (TP + TN + FP + FN)\n",
    " \n",
    "Calcular las 3 métricas con Numpy y operaciones vectorizadas."
   ]
  },
  {
   "cell_type": "code",
   "execution_count": 3,
   "id": "794dcd58",
   "metadata": {},
   "outputs": [
    {
     "name": "stdout",
     "output_type": "stream",
     "text": [
      "La Precisión es: 50.0%\n",
      "El Recall es: 50.0%\n",
      "El Accuracy es: 40.0%\n"
     ]
    }
   ],
   "source": [
    "truth = np.array([1,1,0,1,1,1,0,0,0,1])\n",
    "prediction = np.array([1,1,1,1,0,0,1,1,0,0])\n",
    "\n",
    "# Definimos las 4 variables\n",
    "TP = np.sum(np.where((truth == 1) & (prediction == 1), 1, 0))\n",
    "TN = np.sum(np.where((truth == 0) & (prediction == 0), 1, 0))\n",
    "FP = np.sum(np.where((truth == 0) & (prediction == 1), 1, 0))\n",
    "FN = np.sum(np.where((truth == 1) & (prediction == 0), 1, 0))\n",
    "\n",
    "# Calcular Precisión\n",
    "precision = TP / (TP+FP)\n",
    "print(f\"La Precisión es: {precision*100}%\")\n",
    "\n",
    "# Calcular Recall\n",
    "recall = TP / (TP+FN)\n",
    "print(f\"El Recall es: {recall*100}%\")\n",
    "\n",
    "# Calcular Accuracy\n",
    "accuracy = (TP+TN) / (TP+TN+FP+FN)\n",
    "print(f\"El Accuracy es: {accuracy*100}%\")"
   ]
  },
  {
   "attachments": {},
   "cell_type": "markdown",
   "id": "d0ac6f6f",
   "metadata": {},
   "source": [
    "## Ejercicio 3\n",
    "\n",
    "Crear una función que separe los datos en train-validation-test. Debe recibir de parametros:\n",
    "\n",
    "- X: Array o Dataframe que contiene los datos de entrada del sistema.\n",
    "- y: Array o Dataframe que contiene la(s) variable(s) target del problema.\n",
    "- train_percentage: _float_ el porcentaje de training.\n",
    "- test_percentage: _float_ el porcentaje de testing.\n",
    "- val_percentage: _float_ el porcentaje de validación.\n",
    "- shuffle: _bool_ determina si el split debe hacerse de manera random o no.\n",
    "\n",
    "Hints: \n",
    "\n",
    "* Usar Indexing y slicing\n",
    "* Usar np.random.[...]"
   ]
  },
  {
   "cell_type": "code",
   "execution_count": 4,
   "id": "ca85fc66",
   "metadata": {},
   "outputs": [],
   "source": [
    "def split(X_input,\n",
    "          Y_input,\n",
    "          train_size=0.7,\n",
    "          val_size=0.15,\n",
    "          test_size=0.15,\n",
    "          random_state=42,\n",
    "          shuffle=True):\n",
    "    \n",
    "    return NotImplementedError\n",
    "\n",
    "def split_input(X, Y, \n",
    "                train_percentage=0.80, \n",
    "                test_percentage=0.10, \n",
    "                val_percentage=0.10, \n",
    "                shuffle=True):\n",
    "      \n",
    "    def _inner_split(array):\n",
    "\n",
    "        arr_train_split = array[:int(train_percentage*len(array))]\n",
    "        arr_val_split = array[int(train_percentage*len(array)):int((train_percentage+val_percentage)*len(array))]\n",
    "        arr_test_split = array[int((train_percentage+val_percentage)*len(array)):]\n",
    "\n",
    "        return arr_train_split, arr_val_split, arr_test_split\n",
    "    \n",
    "    X = np.array(X)\n",
    "    Y = np.array(Y)\n",
    "\n",
    "    if shuffle:\n",
    "        train_percentage = np.random.random()\n",
    "        val_percentage = train_percentage*np.random.random()\n",
    "        test_percentage = 1.0 - train_percentage - val_percentage\n",
    "    \n",
    "    X_train, X_val, X_test = _inner_split(X)\n",
    "    Y_train, Y_val, Y_test = _inner_split(Y)\n",
    "    \n",
    "    return X_train, X_val, X_test, Y_train, Y_val, Y_test"
   ]
  },
  {
   "cell_type": "code",
   "execution_count": null,
   "id": "15cafc21-24c3-4440-b605-551309b16240",
   "metadata": {},
   "outputs": [],
   "source": []
  }
 ],
 "metadata": {
  "colab": {
   "collapsed_sections": [],
   "name": "Practica_clase_3.ipynb",
   "provenance": []
  },
  "kernelspec": {
   "display_name": "Python 3 (ipykernel)",
   "language": "python",
   "name": "python3"
  },
  "language_info": {
   "codemirror_mode": {
    "name": "ipython",
    "version": 3
   },
   "file_extension": ".py",
   "mimetype": "text/x-python",
   "name": "python",
   "nbconvert_exporter": "python",
   "pygments_lexer": "ipython3",
   "version": "3.11.1"
  },
  "vscode": {
   "interpreter": {
    "hash": "b5c22da4a52024410f64f9c5a5e2b4ffeeb944a5ed00e8825a42174cdab30315"
   }
  }
 },
 "nbformat": 4,
 "nbformat_minor": 5
}
