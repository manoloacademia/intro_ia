{
  "cells": [
    {
      "attachments": {},
      "cell_type": "markdown",
      "id": "07289bb0",
      "metadata": {},
      "source": [
        "# Trabajo integrador - Parte 1\n",
        "## Python y Numpy\n",
        "\n",
        "**Nombre**: Luis Pablo Segovia"
      ]
    },
    {
      "cell_type": "code",
      "execution_count": 2,
      "id": "aaf94e0a",
      "metadata": {
        "id": "aaf94e0a"
      },
      "outputs": [],
      "source": [
        "import numpy as np"
      ]
    },
    {
      "attachments": {},
      "cell_type": "markdown",
      "id": "0ffe9554",
      "metadata": {},
      "source": [
        "## Primer ejercicio\n",
        "\n",
        "Dada una matriz en formato *numpy array*, donde cada fila de la matriz representa un vector matemático, se requiere computar las normas $l_0$, $l_1$, $l_2$, $l_{\\infty}$, según la siguientes definiciones:\n",
        "\n",
        "\\begin{equation}\n",
        "    ||\\mathbf{x}||^{p} = \\bigg(\\sum_{j=1}^{n}{|x_i|^p}\\bigg)^{\\frac{1}{p}}\n",
        "\\end{equation}\n",
        "\n",
        "con los casos especiales para $p=0$ y $p=\\infty$ siendo:\n",
        "\n",
        "\\begin{equation}\n",
        "    \\begin{array}{rcl}\n",
        "        ||\\mathbf{x}||_0 & = & \\bigg(\\sum_{j=1 \\wedge x_j != 0}{|x_i|}\\bigg)\\\\\n",
        "        ||\\mathbf{x}||_{\\infty} & = & \\max_{i}{|x_i|}\\\\\n",
        "    \\end{array}\n",
        "\\end{equation}"
      ]
    },
    {
      "cell_type": "code",
      "execution_count": 3,
      "id": "0bdb0ee3",
      "metadata": {},
      "outputs": [
        {
          "name": "stdout",
          "output_type": "stream",
          "text": [
            "Matriz A: \n",
            " [[0 1 2]\n",
            " [3 4 5]\n",
            " [6 7 8]]\n",
            "\n",
            "La norma l1 es:  15.0\n",
            "La norma l2 es:  14.226707390822694\n",
            "La norma linf es:  21.0\n"
          ]
        }
      ],
      "source": [
        "# Para computar las normas usamos de referencia https://numpy.org/doc/stable/reference/generated/numpy.linalg.norm.html\n",
        "A = np.arange(9).reshape((3,3)) # ejemplo de matriz para computar las normas\n",
        "\n",
        "# l0_norm = np.linalg.norm(A, ord=0)\n",
        "l1_norm = np.linalg.norm(A, ord=1)\n",
        "l2_norm = np.linalg.norm(A, ord=2)\n",
        "linf_norm = np.linalg.norm(A, ord=np.inf)\n",
        "\n",
        "print(\"Matriz A: \\n\", A)\n",
        "\n",
        "print(\"\\nLa norma l1 es: \", l1_norm)\n",
        "print(\"La norma l2 es: \", l2_norm)\n",
        "print(\"La norma linf es: \", linf_norm)"
      ]
    },
    {
      "attachments": {},
      "cell_type": "markdown",
      "id": "dd66d862",
      "metadata": {},
      "source": [
        "## Segundo Ejercicio\n",
        "\n",
        "En clasificación contamos con dos arreglos, la “verdad” y la “predicción”. Cada elemento de los arreglos pueden tomar dos valores, “True” (representado por 1) y “False” (representado por 0). Entonces podemos definir 4 variables:\n",
        "\n",
        "* True Positive (TP): El valor verdadero es 1 y el valor predicho es 1\n",
        "* True Negative (TN): El valor verdadero es 0 y el valor predicho es 0\n",
        "* False Positive (FP): El valor verdadero es 0 y el valor predicho es 1\n",
        "* False Negative (FN): El valor verdadero es 1 y el valor predicho es 0\n",
        "\n",
        "A partir de esto definimos:\n",
        "\n",
        "* Precision = TP / (TP + FP)\n",
        "* Recall = TP / (TP + FN)\n",
        "* Accuracy = (TP + TN) / (TP + TN + FP + FN)\n",
        " \n",
        "Calcular las 3 métricas con Numpy y operaciones vectorizadas."
      ]
    },
    {
      "cell_type": "code",
      "execution_count": 4,
      "id": "794dcd58",
      "metadata": {},
      "outputs": [],
      "source": [
        "truth = np.array([1,1,0,1,1,1,0,0,0,1])\n",
        "prediction = np.array([1,1,1,1,0,0,1,1,0,0])"
      ]
    },
    {
      "cell_type": "code",
      "execution_count": 5,
      "id": "e9649e9e",
      "metadata": {},
      "outputs": [
        {
          "name": "stdout",
          "output_type": "stream",
          "text": [
            "La Precisión es: 50.0%\n",
            "El Recall es: 50.0%\n",
            "El Accuracy es: 40.0%\n"
          ]
        }
      ],
      "source": [
        "# Definimos las 4 variables\n",
        "TP = np.sum(np.where((truth == 1) & (prediction == 1), 1, 0))\n",
        "TN = np.sum(np.where((truth == 0) & (prediction == 0), 1, 0))\n",
        "FP = np.sum(np.where((truth == 0) & (prediction == 1), 1, 0))\n",
        "FN = np.sum(np.where((truth == 1) & (prediction == 0), 1, 0))\n",
        "\n",
        "# Calcular Precisión\n",
        "precision = TP / (TP+FP)\n",
        "print(f\"La Precisión es: {precision*100}%\")\n",
        "\n",
        "# Calcular Recall\n",
        "recall = TP / (TP+FN)\n",
        "print(f\"El Recall es: {recall*100}%\")\n",
        "\n",
        "# Calcular Accuracy\n",
        "accuracy = (TP+TN) / (TP+TN+FP+FN)\n",
        "print(f\"El Accuracy es: {accuracy*100}%\")"
      ]
    },
    {
      "attachments": {},
      "cell_type": "markdown",
      "id": "d0ac6f6f",
      "metadata": {},
      "source": [
        "## Tercer ejercicio\n",
        "\n",
        "Crear una función que separe los datos en train-validation-test. Debe recibir de parametros:\n",
        "\n",
        "- X: Array o Dataframe que contiene los datos de entrada del sistema.\n",
        "- y: Array o Dataframe que contiene la(s) variable(s) target del problema.\n",
        "- train_percentage: _float_ el porcentaje de training.\n",
        "- test_percentage: _float_ el porcentaje de testing.\n",
        "- val_percentage: _float_ el porcentaje de validación.\n",
        "- shuffle: _bool_ determina si el split debe hacerse de manera random o no.\n",
        "\n",
        "Hints: \n",
        "\n",
        "* Usar Indexing y slicing\n",
        "* Usar np.random.[...]"
      ]
    },
    {
      "cell_type": "code",
      "execution_count": 100,
      "id": "ca85fc66",
      "metadata": {},
      "outputs": [],
      "source": [
        "def split(X_input,\n",
        "          Y_input,\n",
        "          train_size=0.7,\n",
        "          val_size=0.15,\n",
        "          test_size=0.15,\n",
        "          random_state=42,\n",
        "          shuffle=True):\n",
        "    \n",
        "    return NotImplementedError\n",
        "\n",
        "def split_input(X, Y, \n",
        "                train_percentage=0.80, \n",
        "                test_percentage=0.10, \n",
        "                val_percentage=0.10, \n",
        "                shuffle=True):\n",
        "      \n",
        "    def _inner_split(array):\n",
        "\n",
        "        arr_train_split = array[:int(train_percentage*len(array))]\n",
        "        arr_val_split = array[int(train_percentage*len(array)):int((train_percentage+val_percentage)*len(array))]\n",
        "        arr_test_split = array[int((train_percentage+val_percentage)*len(array)):]\n",
        "\n",
        "        return arr_train_split, arr_val_split, arr_test_split\n",
        "    \n",
        "    X = np.array(X)\n",
        "    Y = np.array(Y)\n",
        "\n",
        "    if shuffle:\n",
        "        train_percentage = np.random.random()\n",
        "        val_percentage = train_percentage*np.random.random()\n",
        "        test_percentage = 1.0 - train_percentage - val_percentage\n",
        "    \n",
        "    X_train, X_val, X_test = _inner_split(X)\n",
        "    Y_train, Y_val, Y_test = _inner_split(Y)\n",
        "    \n",
        "    return X_train, X_val, X_test, Y_train, Y_val, Y_test"
      ]
    }
  ],
  "metadata": {
    "colab": {
      "collapsed_sections": [],
      "name": "Practica_clase_3.ipynb",
      "provenance": []
    },
    "kernelspec": {
      "display_name": "Python 3.10.7 64-bit",
      "language": "python",
      "name": "python3"
    },
    "language_info": {
      "codemirror_mode": {
        "name": "ipython",
        "version": 3
      },
      "file_extension": ".py",
      "mimetype": "text/x-python",
      "name": "python",
      "nbconvert_exporter": "python",
      "pygments_lexer": "ipython3",
      "version": "3.11.1"
    },
    "vscode": {
      "interpreter": {
        "hash": "b5c22da4a52024410f64f9c5a5e2b4ffeeb944a5ed00e8825a42174cdab30315"
      }
    }
  },
  "nbformat": 4,
  "nbformat_minor": 5
}
